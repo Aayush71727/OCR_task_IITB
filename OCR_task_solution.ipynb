{
  "nbformat": 4,
  "nbformat_minor": 0,
  "metadata": {
    "colab": {
      "name": "OCR_task_solution.ipynb",
      "provenance": [],
      "collapsed_sections": [],
      "authorship_tag": "ABX9TyM8vgZWJt/TtAaxGZ1aKoGW"
    },
    "kernelspec": {
      "name": "python3",
      "display_name": "Python 3"
    },
    "language_info": {
      "name": "python"
    },
    "accelerator": "GPU"
  },
  "cells": [
    {
      "cell_type": "markdown",
      "metadata": {
        "id": "ztukHKQE3QrN"
      },
      "source": [
        "NOTE: In this task I have tested Converting pdf to direct images and achieved quite good results but I have achieved better results by implementing the task on individual screenshots."
      ]
    },
    {
      "cell_type": "markdown",
      "metadata": {
        "id": "DiWkI-e_zbIy"
      },
      "source": [
        "# Imports"
      ]
    },
    {
      "cell_type": "code",
      "metadata": {
        "id": "gtbuya1rKAv0"
      },
      "source": [
        "# page_1\n",
        "# !wget \"https://www.dropbox.com/s/717x75y71kmmgoa/Screenshot%202021-04-26%2016.32.38.png?dl=0\""
      ],
      "execution_count": 456,
      "outputs": []
    },
    {
      "cell_type": "code",
      "metadata": {
        "id": "NzEHa8LNKs5D"
      },
      "source": [
        "#page_1 continue\n",
        "# !wget \"https://www.dropbox.com/s/wv3tjsi81oq8c1j/Screenshot%202021-04-26%2016.33.01.png?dl=0\""
      ],
      "execution_count": 457,
      "outputs": []
    },
    {
      "cell_type": "code",
      "metadata": {
        "id": "Z5L-xnU2Ksnf"
      },
      "source": [
        "#page_2\n",
        "# !wget \"https://www.dropbox.com/s/nxwerdhepmoshnz/Screenshot%202021-04-26%2016.33.23.png?dl=0\""
      ],
      "execution_count": 458,
      "outputs": []
    },
    {
      "cell_type": "code",
      "metadata": {
        "id": "E57dv8emKsXa"
      },
      "source": [
        "#page_3 \n",
        "# !wget \"https://www.dropbox.com/s/xmzll58unpabiri/Screenshot%202021-04-26%2016.34.13.png?dl=0\""
      ],
      "execution_count": 459,
      "outputs": []
    },
    {
      "cell_type": "code",
      "metadata": {
        "id": "aYUuBq4aKsFA"
      },
      "source": [
        "#page_3 continue\n",
        "# !wget \"https://www.dropbox.com/s/dngmuyq517obx8m/Screenshot%202021-04-26%2016.34.38.png?dl=0\""
      ],
      "execution_count": 460,
      "outputs": []
    },
    {
      "cell_type": "code",
      "metadata": {
        "id": "_NfJFqK6KrsU"
      },
      "source": [
        "#page_4\n",
        "# !wget \"https://www.dropbox.com/s/0h6mcbd2dggzhdy/Screenshot%202021-04-26%2016.35.03.png?dl=0\""
      ],
      "execution_count": 461,
      "outputs": []
    },
    {
      "cell_type": "code",
      "metadata": {
        "id": "XBFi-vQQKq8i"
      },
      "source": [
        "#page_4 continue\n",
        "# !wget \"https://www.dropbox.com/s/tjda8vasrja1p1i/Screenshot%202021-04-26%2016.35.20.png?dl=0\""
      ],
      "execution_count": 462,
      "outputs": []
    },
    {
      "cell_type": "code",
      "metadata": {
        "id": "MwUDh62mL68M"
      },
      "source": [
        "#page_5\n",
        "# !wget \"https://www.dropbox.com/s/lzey7wzf1jeg9rd/Screenshot%202021-04-26%2016.35.37.png?dl=0\""
      ],
      "execution_count": 463,
      "outputs": []
    },
    {
      "cell_type": "code",
      "metadata": {
        "id": "-VohkeLUL4kP"
      },
      "source": [
        "#page_5 continue\n",
        "# !wget \"https://www.dropbox.com/s/3ltapdh1yo05djf/Screenshot%202021-04-26%2016.35.51.png?dl=0\""
      ],
      "execution_count": 464,
      "outputs": []
    },
    {
      "cell_type": "code",
      "metadata": {
        "colab": {
          "base_uri": "https://localhost:8080/"
        },
        "id": "2WGg3_b69W5z",
        "outputId": "1a319844-7426-4c8c-90f7-c71040275da7"
      },
      "source": [
        "!wget \"https://www.dropbox.com/s/qhnz4t2ldnnhjj3/frozen_east_text_detection.pb?dl=0\""
      ],
      "execution_count": 2,
      "outputs": [
        {
          "output_type": "stream",
          "text": [
            "--2021-04-26 17:40:20--  https://www.dropbox.com/s/qhnz4t2ldnnhjj3/frozen_east_text_detection.pb?dl=0\n",
            "Resolving www.dropbox.com (www.dropbox.com)... 162.125.1.18, 2620:100:601a:18::a27d:712\n",
            "Connecting to www.dropbox.com (www.dropbox.com)|162.125.1.18|:443... connected.\n",
            "HTTP request sent, awaiting response... 301 Moved Permanently\n",
            "Location: /s/raw/qhnz4t2ldnnhjj3/frozen_east_text_detection.pb [following]\n",
            "--2021-04-26 17:40:20--  https://www.dropbox.com/s/raw/qhnz4t2ldnnhjj3/frozen_east_text_detection.pb\n",
            "Reusing existing connection to www.dropbox.com:443.\n",
            "HTTP request sent, awaiting response... 302 Found\n",
            "Location: https://uc3d6745beabd6dfffd5664682e5.dl.dropboxusercontent.com/cd/0/inline/BNUurq93Q9O4SalrIL-dDxNUZNRN4hyT3Xvf5ADSRRZRqpjKqCtf_UPZ003sJpqOnqPbODHOB8153ulzeFXwe6qeAYKPXaAO-mn7ORJXviKXTRKeEYS2Vsu9KzJkcAM3MLqim4e-BUxuzSYanF_mYfWa/file# [following]\n",
            "--2021-04-26 17:40:21--  https://uc3d6745beabd6dfffd5664682e5.dl.dropboxusercontent.com/cd/0/inline/BNUurq93Q9O4SalrIL-dDxNUZNRN4hyT3Xvf5ADSRRZRqpjKqCtf_UPZ003sJpqOnqPbODHOB8153ulzeFXwe6qeAYKPXaAO-mn7ORJXviKXTRKeEYS2Vsu9KzJkcAM3MLqim4e-BUxuzSYanF_mYfWa/file\n",
            "Resolving uc3d6745beabd6dfffd5664682e5.dl.dropboxusercontent.com (uc3d6745beabd6dfffd5664682e5.dl.dropboxusercontent.com)... 162.125.1.15, 2620:100:601a:15::a27d:70f\n",
            "Connecting to uc3d6745beabd6dfffd5664682e5.dl.dropboxusercontent.com (uc3d6745beabd6dfffd5664682e5.dl.dropboxusercontent.com)|162.125.1.15|:443... connected.\n",
            "HTTP request sent, awaiting response... 302 Found\n",
            "Location: /cd/0/inline2/BNVBUiV-NZ_fwLjW53i1c6L1sufhI_DEcAV3xmTb4PxEEWx34nJftU9ELMd4ukZVhsvz5DBalwYcMqyV43E1XjFMSF67niuwHyxxZtYwR6jwRSYrEEFL9oWObrEUcbaNrQRcSTh4mNteTYEOgU9Ob5S0JkPLmPUEM2-ayyE4sJfFnBaAOWkuF3uOxWrQRfobY1emu0RHkrbdNR1inUmALQyfkfVruuZvVkjFuC_3ROrgovbhzduvuQUVSJir0xF-rDSHyT96cTYcGE2PiVG-y_WaqNGhgHcjSnoMP7Na6cdcruY13bWihUkyJcbeW8IcQB4_qtteU8iaxGfXQuNqDs3Ey8oces9o0lmZmc5w1HXUvGr_QJJyB-qNfbQ9pby2oBs/file [following]\n",
            "--2021-04-26 17:40:21--  https://uc3d6745beabd6dfffd5664682e5.dl.dropboxusercontent.com/cd/0/inline2/BNVBUiV-NZ_fwLjW53i1c6L1sufhI_DEcAV3xmTb4PxEEWx34nJftU9ELMd4ukZVhsvz5DBalwYcMqyV43E1XjFMSF67niuwHyxxZtYwR6jwRSYrEEFL9oWObrEUcbaNrQRcSTh4mNteTYEOgU9Ob5S0JkPLmPUEM2-ayyE4sJfFnBaAOWkuF3uOxWrQRfobY1emu0RHkrbdNR1inUmALQyfkfVruuZvVkjFuC_3ROrgovbhzduvuQUVSJir0xF-rDSHyT96cTYcGE2PiVG-y_WaqNGhgHcjSnoMP7Na6cdcruY13bWihUkyJcbeW8IcQB4_qtteU8iaxGfXQuNqDs3Ey8oces9o0lmZmc5w1HXUvGr_QJJyB-qNfbQ9pby2oBs/file\n",
            "Reusing existing connection to uc3d6745beabd6dfffd5664682e5.dl.dropboxusercontent.com:443.\n",
            "HTTP request sent, awaiting response... 200 OK\n",
            "Length: 96662756 (92M) [application/octet-stream]\n",
            "Saving to: ‘frozen_east_text_detection.pb?dl=0’\n",
            "\n",
            "frozen_east_text_de 100%[===================>]  92.18M  78.4MB/s    in 1.2s    \n",
            "\n",
            "2021-04-26 17:40:23 (78.4 MB/s) - ‘frozen_east_text_detection.pb?dl=0’ saved [96662756/96662756]\n",
            "\n"
          ],
          "name": "stdout"
        }
      ]
    },
    {
      "cell_type": "code",
      "metadata": {
        "id": "foWloD-7zLHT"
      },
      "source": [
        "pip install pytesseract"
      ],
      "execution_count": null,
      "outputs": []
    },
    {
      "cell_type": "code",
      "metadata": {
        "id": "3wle2JNRzVvB"
      },
      "source": [
        "!sudo apt install tesseract-ocr"
      ],
      "execution_count": null,
      "outputs": []
    },
    {
      "cell_type": "code",
      "metadata": {
        "id": "6RfRrKLu9heu"
      },
      "source": [
        "# import the necessary packages\n",
        "from imutils.object_detection import non_max_suppression\n",
        "from google.colab.patches import cv2_imshow\n",
        "import numpy as np\n",
        "import pytesseract\n",
        "import time\n",
        "import cv2"
      ],
      "execution_count": 6,
      "outputs": []
    },
    {
      "cell_type": "markdown",
      "metadata": {
        "id": "xPmtonFRzsME"
      },
      "source": [
        "# Text Detection and Bounding Box "
      ]
    },
    {
      "cell_type": "code",
      "metadata": {
        "id": "rv_VRxH49y6X"
      },
      "source": [
        "# load the input image and grab the image dimensions\n",
        "image = cv2.imread('Screenshot 2021-04-26 16.35.51.png?dl=0')\n",
        "orig = image.copy()\n",
        "(H, W) = image.shape[:2]\n",
        "\n",
        "# set the new width and height and then determine the ratio in change\n",
        "# for both the width and height\n",
        "(newW, newH) = (1280,1280)\n",
        "rW = W / float(newW)\n",
        "rH = H / float(newH)\n",
        "\n",
        "# resize the image and grab the new image dimensions\n",
        "image = cv2.resize(image, (newW, newH))\n",
        "(H, W) = image.shape[:2]"
      ],
      "execution_count": 465,
      "outputs": []
    },
    {
      "cell_type": "code",
      "metadata": {
        "colab": {
          "base_uri": "https://localhost:8080/"
        },
        "id": "g_xWpEf39-35",
        "outputId": "b16ad9df-5379-4c05-a2ed-514cea1768df"
      },
      "source": [
        "print(H,W)"
      ],
      "execution_count": 466,
      "outputs": [
        {
          "output_type": "stream",
          "text": [
            "1280 1280\n"
          ],
          "name": "stdout"
        }
      ]
    },
    {
      "cell_type": "code",
      "metadata": {
        "colab": {
          "base_uri": "https://localhost:8080/"
        },
        "id": "D_-9ABJG9_WT",
        "outputId": "7839c861-b6b7-4b03-e7d0-b4e4acacb04f"
      },
      "source": [
        "# define the two output layer names for the EAST detector model that\n",
        "# we are interested -- the first is the output probabilities and the\n",
        "# second can be used to derive the bounding box coordinates of text\n",
        "layerNames = [\n",
        "    \"feature_fusion/Conv_7/Sigmoid\",\n",
        "    \"feature_fusion/concat_3\"]\n",
        "\n",
        "# load the pre-trained EAST text detector\n",
        "print(\"[INFO] loading EAST text detector...\")\n",
        "net = cv2.dnn.readNet('frozen_east_text_detection.pb')\n",
        "\n",
        "# construct a blob from the image and then perform a forward pass of\n",
        "# the model to obtain the two output layer sets\n",
        "blob = cv2.dnn.blobFromImage(image, 1.0, (W, H),\n",
        "                             (123.68, 116.78, 103.94), swapRB=True, crop=False)\n",
        "start = time.time()\n",
        "net.setInput(blob)\n",
        "(scores, geometry) = net.forward(layerNames)\n",
        "end = time.time()"
      ],
      "execution_count": 467,
      "outputs": [
        {
          "output_type": "stream",
          "text": [
            "[INFO] loading EAST text detector...\n"
          ],
          "name": "stdout"
        }
      ]
    },
    {
      "cell_type": "code",
      "metadata": {
        "colab": {
          "base_uri": "https://localhost:8080/"
        },
        "id": "sIItEN__-IVr",
        "outputId": "7ba42e8e-87d9-4901-9c29-97f1bfe42d6d"
      },
      "source": [
        "# show timing information on text prediction\n",
        "print(\"[INFO] text detection took {:.6f} seconds\".format(end - start))\n",
        "#print(scores)\n",
        "#print(scores.shape[2:4])"
      ],
      "execution_count": 468,
      "outputs": [
        {
          "output_type": "stream",
          "text": [
            "[INFO] text detection took 9.047872 seconds\n"
          ],
          "name": "stdout"
        }
      ]
    },
    {
      "cell_type": "code",
      "metadata": {
        "id": "xi3xCXMn-Ltd"
      },
      "source": [
        "# grab the number of rows and columns from the scores volume, then\n",
        "# initialize our set of bounding box rectangles and corresponding\n",
        "# confidence scores\n",
        "(numRows, numCols) = scores.shape[2:4]"
      ],
      "execution_count": 469,
      "outputs": []
    },
    {
      "cell_type": "code",
      "metadata": {
        "colab": {
          "base_uri": "https://localhost:8080/"
        },
        "id": "TMBNO8zC-Od6",
        "outputId": "99af9d95-b7a0-469e-dfa5-a1fab9a43d5b"
      },
      "source": [
        "print(numRows,numCols)"
      ],
      "execution_count": 470,
      "outputs": [
        {
          "output_type": "stream",
          "text": [
            "320 320\n"
          ],
          "name": "stdout"
        }
      ]
    },
    {
      "cell_type": "code",
      "metadata": {
        "id": "oHQ0XL23-RX6"
      },
      "source": [
        "# loop over the number of rows\n",
        "box_dict={}\n",
        "rects_2=[]\n",
        "confi = []\n",
        "for y in range(0, numRows):\n",
        "    # extract the scores (probabilities), followed by the geometrical\n",
        "    # data used to derive potential bounding box coordinates that\n",
        "    # surround text\n",
        "    scoresData = scores[0, 0, y]\n",
        "    xData0 = geometry[0, 0, y]\n",
        "    xData1 = geometry[0, 1, y]\n",
        "    xData2 = geometry[0, 2, y]\n",
        "    xData3 = geometry[0, 3, y]\n",
        "    anglesData = geometry[0, 4, y]\n",
        "\n",
        "    \n",
        "    # loop over the number of columns\n",
        "    for x in range(0, numCols):\n",
        "        # if our score does not have sufficient probability, ignore it\n",
        "        if scoresData[x] < 0.5:\n",
        "            continue\n",
        "\n",
        "        # compute the offset factor as our resulting feature maps will\n",
        "        # be 4x smaller than the input image\n",
        "        (offsetX, offsetY) = (x * 4.0, y * 4.0)\n",
        "\n",
        "        # extract the rotation angle for the prediction and then\n",
        "        # compute the sin and cosine\n",
        "        angle = anglesData[x]\n",
        "        cos = np.cos(angle)\n",
        "        sin = np.sin(angle)\n",
        "\n",
        "        # use the geometry volume to derive the width and height of\n",
        "        # the bounding box\n",
        "        h = xData0[x] + xData2[x]\n",
        "        w = xData1[x] + xData3[x]\n",
        "\n",
        "        # compute both the starting and ending (x, y)-coordinates for\n",
        "        # the text prediction bounding box\n",
        "        endX = int(offsetX + (cos * xData1[x]) + (sin * xData2[x]))\n",
        "        endY = int(offsetY - (sin * xData1[x]) + (cos * xData2[x]))\n",
        "        startX = int(endX - w)\n",
        "        startY = int(endY - h)\n",
        "\n",
        "        # add the bounding box coordinates and probability score to\n",
        "        # our respective lists\n",
        "        rects_2.append((startX, startY, endX, endY))\n",
        "        confi.append(scoresData[x])\n",
        "\n",
        "    rowBoxes = sorted(rects_2,key=lambda x:x[0])\n",
        "    # apply non-maxima suppression to suppress weak, overlapping bounding\n",
        "    # boxes\n",
        "    box_dict[y] = non_max_suppression(np.array(rowBoxes),probs=confi)\n",
        "    rects_2 = []\n",
        "    confi = []\n"
      ],
      "execution_count": 471,
      "outputs": []
    },
    {
      "cell_type": "code",
      "metadata": {
        "colab": {
          "base_uri": "https://localhost:8080/"
        },
        "id": "tbD6a6uj-R1E",
        "outputId": "8ee23073-cb7c-4ce6-bfb7-f34c12111fd7"
      },
      "source": [
        "print(len(box_dict))"
      ],
      "execution_count": 472,
      "outputs": [
        {
          "output_type": "stream",
          "text": [
            "320\n"
          ],
          "name": "stdout"
        }
      ]
    },
    {
      "cell_type": "code",
      "metadata": {
        "id": "EQPeJM6t-R_v"
      },
      "source": [
        "from itertools import product\n",
        "\n",
        "close_dist = 12.5\n",
        "merged_boxes = []\n",
        "\n",
        "# common version\n",
        "def should_merge(box1, box2):\n",
        "    for i in range(2):\n",
        "        for j in range(2):\n",
        "            for k in range(2):\n",
        "                if abs(box1[j * 2 + i] - box2[k * 2 + i]) <= close_dist:\n",
        "                    return True, [min(box1[0], box2[0]), min(box1[1], box2[1]),  box2[0] + box2[2] - box1[0],\n",
        "                                  max(box1[1] + box1[3], box2[1] + box2[3]) - min(box1[1], box2[1])]\n",
        "    return False, None\n",
        "\n",
        "\n",
        "# use product, more concise\n",
        "def should_merge2(box1, box2):\n",
        "    a = (box1[0], box1[2]), (box1[1], box1[3])\n",
        "    b = (box2[0], box2[2]), (box2[1], box2[3])\n",
        "    #print(a,b)\n",
        "\n",
        "    if any(abs(a_v - b_v) <= close_dist for i in range(2) for a_v, b_v in product(a[i], b[i])):\n",
        "        return True, [min(*a[0], *b[0]), min(*a[1], *b[1]), max(*a[0], *b[0]), max(*a[1], *b[1])]\n",
        "\n",
        "    return False, None\n",
        "\n",
        "def merge_box(boxes):\n",
        "    new_box=0\n",
        "    store_new_box = boxes[0]\n",
        "    \n",
        "    for i, box1 in enumerate(boxes[:-1]):\n",
        "        for j, box2 in enumerate(boxes[i + 1:]):\n",
        "            is_merge, new_box = combineBoundingBox(store_new_box, box2)\n",
        "            store_new_box = new_box\n",
        "            if is_merge:\n",
        "                boxes[i+1] = new_box\n",
        "                #boxes[j] = new_box\n",
        "                break\n",
        "    return new_box"
      ],
      "execution_count": 473,
      "outputs": []
    },
    {
      "cell_type": "code",
      "metadata": {
        "id": "0rblE_j7-SMD"
      },
      "source": [
        "merged_boxes=[]"
      ],
      "execution_count": 474,
      "outputs": []
    },
    {
      "cell_type": "code",
      "metadata": {
        "id": "T-tivwyG-SXo"
      },
      "source": [
        "boxes_row = []\n",
        "for key in box_dict:\n",
        "  if len(box_dict[key]) > 0:\n",
        "    boxes_row = sorted(box_dict[key],key=lambda x:x[0])\n",
        "    temp = merge_box(boxes_row)\n",
        "    merged_boxes.append(temp)"
      ],
      "execution_count": 475,
      "outputs": []
    },
    {
      "cell_type": "code",
      "metadata": {
        "colab": {
          "base_uri": "https://localhost:8080/"
        },
        "id": "uKmlAyhk-Sk3",
        "outputId": "f33333fe-186d-4dd6-954d-0a7f2cc15fdf"
      },
      "source": [
        "len(merged_boxes)"
      ],
      "execution_count": 476,
      "outputs": [
        {
          "output_type": "execute_result",
          "data": {
            "text/plain": [
              "83"
            ]
          },
          "metadata": {
            "tags": []
          },
          "execution_count": 476
        }
      ]
    },
    {
      "cell_type": "code",
      "metadata": {
        "id": "cIk_t2xB-Sxq"
      },
      "source": [
        "test_boxes_3=[]\n",
        "test_boxes_3 = list(filter(None, merged_boxes))"
      ],
      "execution_count": 477,
      "outputs": []
    },
    {
      "cell_type": "code",
      "metadata": {
        "colab": {
          "base_uri": "https://localhost:8080/"
        },
        "id": "TaBwQ8xx-Tbh",
        "outputId": "1a2db5b3-c5f2-4bd0-d2fb-8d7409a498ba"
      },
      "source": [
        "len(test_boxes_3)"
      ],
      "execution_count": 478,
      "outputs": [
        {
          "output_type": "execute_result",
          "data": {
            "text/plain": [
              "59"
            ]
          },
          "metadata": {
            "tags": []
          },
          "execution_count": 478
        }
      ]
    },
    {
      "cell_type": "code",
      "metadata": {
        "id": "Uz6ajh1g-Thk"
      },
      "source": [
        "test_boxes_4 = non_max_suppression(np.array(test_boxes_3))"
      ],
      "execution_count": 479,
      "outputs": []
    },
    {
      "cell_type": "code",
      "metadata": {
        "colab": {
          "base_uri": "https://localhost:8080/"
        },
        "id": "c9bTK7t8B48a",
        "outputId": "fe14b44e-811c-4a95-fdd3-949305a8ec3f"
      },
      "source": [
        "len(test_boxes_4)"
      ],
      "execution_count": 480,
      "outputs": [
        {
          "output_type": "execute_result",
          "data": {
            "text/plain": [
              "18"
            ]
          },
          "metadata": {
            "tags": []
          },
          "execution_count": 480
        }
      ]
    },
    {
      "cell_type": "markdown",
      "metadata": {
        "id": "Nf9CbHgt1LhJ"
      },
      "source": [
        "## Bounding Box Plotting"
      ]
    },
    {
      "cell_type": "code",
      "metadata": {
        "id": "NFWsEr0b-4qE"
      },
      "source": [
        "results = []\n",
        "ROI_number = 1\n",
        "rectangled_dict = {}\n",
        "# loop over the bounding boxes\n",
        "for (startX, startY, endX, endY) in test_boxes_4:\n",
        "    # scale the bounding box coordinates based on the respective\n",
        "    # ratios\n",
        "    startX = int(startX * rW)\n",
        "    startY = int(startY * rH)\n",
        "    endX = int(endX * rW)\n",
        "    endY = int(endY * rH)\n",
        "\n",
        "    ROI = orig[startY:endY, startX:endX]\n",
        "    rectangled_dict[ROI_number] = ROI\n",
        "    # draw the bounding box on the image\n",
        "    cv2.rectangle(orig, (startX, startY), (endX, endY), (0, 255, 0), 2)\n",
        "    cv2.imwrite(\"Page_cont_5_\"+str(ROI_number)+'.jpg', ROI)\n",
        "    #configuration setting to convert image to string.  \n",
        "    configuration = (\"-l eng --oem 1 --psm 13\")\n",
        "    # This will recognize the text from the image of bounding box\n",
        "    text = pytesseract.image_to_string(ROI, config=configuration)\n",
        "    # append bbox coordinate and associated text to the list of results \n",
        "    results.append(((startX, startY, endX, endY), text,\"Page_cont_5_\"+str(ROI_number)))\n",
        "    ROI_number+=1"
      ],
      "execution_count": 481,
      "outputs": []
    },
    {
      "cell_type": "code",
      "metadata": {
        "colab": {
          "base_uri": "https://localhost:8080/",
          "height": 741
        },
        "id": "Xr1qHtSb-41T",
        "outputId": "6efd893f-cfaa-4a16-94f1-eb9305f8e927"
      },
      "source": [
        "cv2_imshow(orig)"
      ],
      "execution_count": 482,
      "outputs": [
        {
          "output_type": "display_data",
          "data": {
            "image/png": "[encoded data removed]",
            "text/plain": [
              "<PIL.Image.Image image mode=RGB size=1280x800 at 0x7FBD70A762D0>"
            ]
          },
          "metadata": {
            "tags": []
          }
        }
      ]
    },
    {
      "cell_type": "code",
      "metadata": {
        "id": "8yO90rKf-5Jm",
        "colab": {
          "base_uri": "https://localhost:8080/",
          "height": 44
        },
        "outputId": "89af31f1-4ea2-4c5a-e6ed-ea5ed0b3f0d8"
      },
      "source": [
        "im = cv2.imread(\"Page_cont_5_14.jpg\")\n",
        "cv2_imshow(im)"
      ],
      "execution_count": 413,
      "outputs": [
        {
          "output_type": "display_data",
          "data": {
            "image/png": "[encoded data removed]",
            "text/plain": [
              "<PIL.Image.Image image mode=RGB size=796x27 at 0x7FBD70B71510>"
            ]
          },
          "metadata": {
            "tags": []
          }
        }
      ]
    },
    {
      "cell_type": "code",
      "metadata": {
        "id": "Fa6bxdcYVjx_"
      },
      "source": [
        "temp_dict = {} # For storing bounding box coordinates page wise"
      ],
      "execution_count": 389,
      "outputs": []
    },
    {
      "cell_type": "code",
      "metadata": {
        "id": "9eWkWs9aoOXb"
      },
      "source": [
        "main_dict = {} # For storing bounding box coordinates"
      ],
      "execution_count": 30,
      "outputs": []
    },
    {
      "cell_type": "code",
      "metadata": {
        "id": "og_aDiOHJTgc"
      },
      "source": [
        "# Function to find the coordinates of Bounding box\n",
        "def find_coord(result,box_number):\n",
        "  cord_dict = {}\n",
        "  x = result[0]\n",
        "  y = result[1]\n",
        "  end_x = result[2]\n",
        "  end_y = result[3]\n",
        "\n",
        "  height = end_y-y\n",
        "  width = end_x-x\n",
        "\n",
        "  x_w = int(x+w)\n",
        "  y_h = int(y+h)\n",
        "  cord_dict[\"top_left\"] = [x,y]\n",
        "  cord_dict[\"top_right\"] = [x,y_h]\n",
        "  cord_dict[\"bottom_left\"] = [x_w,y]\n",
        "  cord_dict[\"bottom_right\"] = [x_w,y_h]\n",
        "\n",
        "  main_key = \"box\"+str(box_number)\n",
        "  main_dict[main_key] = cord_dict\n",
        "  temp_dict[main_key] = cord_dict\n"
      ],
      "execution_count": 144,
      "outputs": []
    },
    {
      "cell_type": "code",
      "metadata": {
        "id": "K3DXhd8iVF_F"
      },
      "source": [
        "find_coord(results[0][0],86)"
      ],
      "execution_count": 429,
      "outputs": []
    },
    {
      "cell_type": "code",
      "metadata": {
        "colab": {
          "base_uri": "https://localhost:8080/"
        },
        "id": "RG4sXI_YpqrO",
        "outputId": "9adb0847-e022-4a77-d537-9587f562f67a"
      },
      "source": [
        "main_dict"
      ],
      "execution_count": 430,
      "outputs": [
        {
          "output_type": "execute_result",
          "data": {
            "text/plain": [
              "{'box1': {'bottom_left': [395, 308],\n",
              "  'bottom_right': [395, 346],\n",
              "  'top_left': [322, 308],\n",
              "  'top_right': [322, 346]},\n",
              " 'box10': {'bottom_left': [429, 382],\n",
              "  'bottom_right': [429, 409],\n",
              "  'top_left': [300, 382],\n",
              "  'top_right': [300, 409]},\n",
              " 'box11': {'bottom_left': [434, 410],\n",
              "  'bottom_right': [434, 437],\n",
              "  'top_left': [305, 410],\n",
              "  'top_right': [305, 437]},\n",
              " 'box12': {'bottom_left': [407, 458],\n",
              "  'bottom_right': [407, 485],\n",
              "  'top_left': [278, 458],\n",
              "  'top_right': [278, 485]},\n",
              " 'box13': {'bottom_left': [650, 235],\n",
              "  'bottom_right': [650, 273],\n",
              "  'top_left': [532, 235],\n",
              "  'top_right': [532, 273]},\n",
              " 'box14': {'bottom_left': [376, 341],\n",
              "  'bottom_right': [376, 379],\n",
              "  'top_left': [258, 341],\n",
              "  'top_right': [258, 379]},\n",
              " 'box15': {'bottom_left': [431, 400],\n",
              "  'bottom_right': [431, 438],\n",
              "  'top_left': [313, 400],\n",
              "  'top_right': [313, 438]},\n",
              " 'box16': {'bottom_left': [428, 428],\n",
              "  'bottom_right': [428, 466],\n",
              "  'top_left': [310, 428],\n",
              "  'top_right': [310, 466]},\n",
              " 'box17': {'bottom_left': [482, 469],\n",
              "  'bottom_right': [482, 507],\n",
              "  'top_left': [364, 469],\n",
              "  'top_right': [364, 507]},\n",
              " 'box18': {'bottom_left': [429, 501],\n",
              "  'bottom_right': [429, 539],\n",
              "  'top_left': [311, 501],\n",
              "  'top_right': [311, 539]},\n",
              " 'box19': {'bottom_left': [464, 612],\n",
              "  'bottom_right': [464, 650],\n",
              "  'top_left': [346, 612],\n",
              "  'top_right': [346, 650]},\n",
              " 'box2': {'bottom_left': [384, 332],\n",
              "  'bottom_right': [384, 370],\n",
              "  'top_left': [311, 332],\n",
              "  'top_right': [311, 370]},\n",
              " 'box20': {'bottom_left': [429, 644],\n",
              "  'bottom_right': [429, 682],\n",
              "  'top_left': [311, 644],\n",
              "  'top_right': [311, 682]},\n",
              " 'box21': {'bottom_left': [437, 673],\n",
              "  'bottom_right': [437, 711],\n",
              "  'top_left': [319, 673],\n",
              "  'top_right': [319, 711]},\n",
              " 'box22': {'bottom_left': [428, 707],\n",
              "  'bottom_right': [428, 745],\n",
              "  'top_left': [310, 707],\n",
              "  'top_right': [310, 745]},\n",
              " 'box23': {'bottom_left': [669, 343],\n",
              "  'bottom_right': [669, 387],\n",
              "  'top_left': [520, 343],\n",
              "  'top_right': [520, 387]},\n",
              " 'box24': {'bottom_left': [405, 393],\n",
              "  'bottom_right': [405, 437],\n",
              "  'top_left': [256, 393],\n",
              "  'top_right': [256, 437]},\n",
              " 'box25': {'bottom_left': [459, 441],\n",
              "  'bottom_right': [459, 485],\n",
              "  'top_left': [310, 441],\n",
              "  'top_right': [310, 485]},\n",
              " 'box26': {'bottom_left': [459, 472],\n",
              "  'bottom_right': [459, 516],\n",
              "  'top_left': [310, 472],\n",
              "  'top_right': [310, 516]},\n",
              " 'box27': {'bottom_left': [460, 520],\n",
              "  'bottom_right': [460, 564],\n",
              "  'top_left': [311, 520],\n",
              "  'top_right': [311, 564]},\n",
              " 'box28': {'bottom_left': [557, 553],\n",
              "  'bottom_right': [557, 597],\n",
              "  'top_left': [408, 553],\n",
              "  'top_right': [408, 597]},\n",
              " 'box29': {'bottom_left': [467, 651],\n",
              "  'bottom_right': [467, 695],\n",
              "  'top_left': [318, 651],\n",
              "  'top_right': [318, 695]},\n",
              " 'box3': {'bottom_left': [328, 388],\n",
              "  'bottom_right': [328, 426],\n",
              "  'top_left': [255, 388],\n",
              "  'top_right': [255, 426]},\n",
              " 'box30': {'bottom_left': [464, 683],\n",
              "  'bottom_right': [464, 727],\n",
              "  'top_left': [315, 683],\n",
              "  'top_right': [315, 727]},\n",
              " 'box31': {'bottom_left': [462, 715],\n",
              "  'bottom_right': [462, 759],\n",
              "  'top_left': [313, 715],\n",
              "  'top_right': [313, 759]},\n",
              " 'box32': {'bottom_left': [610, 750],\n",
              "  'bottom_right': [610, 794],\n",
              "  'top_left': [461, 750],\n",
              "  'top_right': [461, 794]},\n",
              " 'box33': {'bottom_left': [506, 238],\n",
              "  'bottom_right': [506, 259],\n",
              "  'top_left': [419, 238],\n",
              "  'top_right': [419, 259]},\n",
              " 'box34': {'bottom_left': [343, 288],\n",
              "  'bottom_right': [343, 309],\n",
              "  'top_left': [256, 288],\n",
              "  'top_right': [256, 309]},\n",
              " 'box35': {'bottom_left': [403, 340],\n",
              "  'bottom_right': [403, 361],\n",
              "  'top_left': [316, 340],\n",
              "  'top_right': [316, 361]},\n",
              " 'box36': {'bottom_left': [401, 373],\n",
              "  'bottom_right': [401, 394],\n",
              "  'top_left': [314, 373],\n",
              "  'top_right': [314, 394]},\n",
              " 'box37': {'bottom_left': [371, 428],\n",
              "  'bottom_right': [371, 449],\n",
              "  'top_left': [284, 428],\n",
              "  'top_right': [284, 449]},\n",
              " 'box38': {'bottom_left': [374, 451],\n",
              "  'bottom_right': [374, 472],\n",
              "  'top_left': [287, 451],\n",
              "  'top_right': [287, 472]},\n",
              " 'box39': {'bottom_left': [372, 296],\n",
              "  'bottom_right': [372, 333],\n",
              "  'top_left': [311, 296],\n",
              "  'top_right': [311, 333]},\n",
              " 'box4': {'bottom_left': [383, 442],\n",
              "  'bottom_right': [383, 480],\n",
              "  'top_left': [310, 442],\n",
              "  'top_right': [310, 480]},\n",
              " 'box40': {'bottom_left': [378, 325],\n",
              "  'bottom_right': [378, 362],\n",
              "  'top_left': [317, 325],\n",
              "  'top_right': [317, 362]},\n",
              " 'box41': {'bottom_left': [370, 426],\n",
              "  'bottom_right': [370, 463],\n",
              "  'top_left': [309, 426],\n",
              "  'top_right': [309, 463]},\n",
              " 'box42': {'bottom_left': [372, 451],\n",
              "  'bottom_right': [372, 488],\n",
              "  'top_left': [311, 451],\n",
              "  'top_right': [311, 488]},\n",
              " 'box43': {'bottom_left': [378, 486],\n",
              "  'bottom_right': [378, 523],\n",
              "  'top_left': [317, 486],\n",
              "  'top_right': [317, 523]},\n",
              " 'box44': {'bottom_left': [382, 518],\n",
              "  'bottom_right': [382, 555],\n",
              "  'top_left': [321, 518],\n",
              "  'top_right': [321, 555]},\n",
              " 'box45': {'bottom_left': [433, 632],\n",
              "  'bottom_right': [433, 669],\n",
              "  'top_left': [372, 632],\n",
              "  'top_right': [372, 669]},\n",
              " 'box46': {'bottom_left': [372, 663],\n",
              "  'bottom_right': [372, 700],\n",
              "  'top_left': [311, 663],\n",
              "  'top_right': [311, 700]},\n",
              " 'box47': {'bottom_left': [373, 697],\n",
              "  'bottom_right': [373, 734],\n",
              "  'top_left': [312, 697],\n",
              "  'top_right': [312, 734]},\n",
              " 'box48': {'bottom_left': [369, 729],\n",
              "  'bottom_right': [369, 766],\n",
              "  'top_left': [308, 729],\n",
              "  'top_right': [308, 766]},\n",
              " 'box49': {'bottom_left': [275, 180],\n",
              "  'bottom_right': [275, 211],\n",
              "  'top_left': [256, 180],\n",
              "  'top_right': [256, 211]},\n",
              " 'box5': {'bottom_left': [386, 476],\n",
              "  'bottom_right': [386, 514],\n",
              "  'top_left': [313, 476],\n",
              "  'top_right': [313, 514]},\n",
              " 'box50': {'bottom_left': [332, 225],\n",
              "  'bottom_right': [332, 256],\n",
              "  'top_left': [313, 225],\n",
              "  'top_right': [313, 256]},\n",
              " 'box51': {'bottom_left': [332, 259],\n",
              "  'bottom_right': [332, 290],\n",
              "  'top_left': [313, 259],\n",
              "  'top_right': [313, 290]},\n",
              " 'box52': {'bottom_left': [329, 291],\n",
              "  'bottom_right': [329, 322],\n",
              "  'top_left': [310, 291],\n",
              "  'top_right': [310, 322]},\n",
              " 'box53': {'bottom_left': [335, 318],\n",
              "  'bottom_right': [335, 349],\n",
              "  'top_left': [316, 318],\n",
              "  'top_right': [316, 349]},\n",
              " 'box54': {'bottom_left': [311, 484],\n",
              "  'bottom_right': [311, 515],\n",
              "  'top_left': [292, 484],\n",
              "  'top_right': [292, 515]},\n",
              " 'box55': {'bottom_left': [289, 506],\n",
              "  'bottom_right': [289, 537],\n",
              "  'top_left': [270, 506],\n",
              "  'top_right': [270, 537]},\n",
              " 'box56': {'bottom_left': [309, 531],\n",
              "  'bottom_right': [309, 562],\n",
              "  'top_left': [290, 531],\n",
              "  'top_right': [290, 562]},\n",
              " 'box57': {'bottom_left': [318, 556],\n",
              "  'bottom_right': [318, 587],\n",
              "  'top_left': [299, 556],\n",
              "  'top_right': [299, 587]},\n",
              " 'box58': {'bottom_left': [328, 586],\n",
              "  'bottom_right': [328, 617],\n",
              "  'top_left': [309, 586],\n",
              "  'top_right': [309, 617]},\n",
              " 'box59': {'bottom_left': [323, 613],\n",
              "  'bottom_right': [323, 644],\n",
              "  'top_left': [304, 613],\n",
              "  'top_right': [304, 644]},\n",
              " 'box6': {'bottom_left': [384, 583],\n",
              "  'bottom_right': [384, 621],\n",
              "  'top_left': [311, 583],\n",
              "  'top_right': [311, 621]},\n",
              " 'box60': {'bottom_left': [324, 643],\n",
              "  'bottom_right': [324, 674],\n",
              "  'top_left': [305, 643],\n",
              "  'top_right': [305, 674]},\n",
              " 'box61': {'bottom_left': [326, 665],\n",
              "  'bottom_right': [326, 696],\n",
              "  'top_left': [307, 665],\n",
              "  'top_right': [307, 696]},\n",
              " 'box62': {'bottom_left': [615, 179],\n",
              "  'bottom_right': [615, 208],\n",
              "  'top_left': [526, 179],\n",
              "  'top_right': [526, 208]},\n",
              " 'box63': {'bottom_left': [489, 213],\n",
              "  'bottom_right': [489, 242],\n",
              "  'top_left': [400, 213],\n",
              "  'top_right': [400, 242]},\n",
              " 'box64': {'bottom_left': [358, 263],\n",
              "  'bottom_right': [358, 292],\n",
              "  'top_left': [269, 263],\n",
              "  'top_right': [269, 292]},\n",
              " 'box65': {'bottom_left': [402, 305],\n",
              "  'bottom_right': [402, 334],\n",
              "  'top_left': [313, 305],\n",
              "  'top_right': [313, 334]},\n",
              " 'box66': {'bottom_left': [491, 401],\n",
              "  'bottom_right': [491, 430],\n",
              "  'top_left': [402, 401],\n",
              "  'top_right': [402, 430]},\n",
              " 'box67': {'bottom_left': [436, 431],\n",
              "  'bottom_right': [436, 460],\n",
              "  'top_left': [347, 431],\n",
              "  'top_right': [347, 460]},\n",
              " 'box68': {'bottom_left': [341, 478],\n",
              "  'bottom_right': [341, 507],\n",
              "  'top_left': [252, 478],\n",
              "  'top_right': [252, 507]},\n",
              " 'box69': {'bottom_left': [485, 517],\n",
              "  'bottom_right': [485, 546],\n",
              "  'top_left': [396, 517],\n",
              "  'top_right': [396, 546]},\n",
              " 'box7': {'bottom_left': [379, 616],\n",
              "  'bottom_right': [379, 654],\n",
              "  'top_left': [306, 616],\n",
              "  'top_right': [306, 654]},\n",
              " 'box70': {'bottom_left': [414, 602],\n",
              "  'bottom_right': [414, 631],\n",
              "  'top_left': [325, 602],\n",
              "  'top_right': [325, 631]},\n",
              " 'box71': {'bottom_left': [402, 633],\n",
              "  'bottom_right': [402, 662],\n",
              "  'top_left': [313, 633],\n",
              "  'top_right': [313, 662]},\n",
              " 'box72': {'bottom_left': [496, 732],\n",
              "  'bottom_right': [496, 761],\n",
              "  'top_left': [407, 732],\n",
              "  'top_right': [407, 761]},\n",
              " 'box73': {'bottom_left': [527, 216],\n",
              "  'bottom_right': [527, 247],\n",
              "  'top_left': [406, 216],\n",
              "  'top_right': [406, 247]},\n",
              " 'box74': {'bottom_left': [379, 266],\n",
              "  'bottom_right': [379, 297],\n",
              "  'top_left': [258, 266],\n",
              "  'top_right': [258, 297]},\n",
              " 'box75': {'bottom_left': [443, 305],\n",
              "  'bottom_right': [443, 336],\n",
              "  'top_left': [322, 305],\n",
              "  'top_right': [322, 336]},\n",
              " 'box76': {'bottom_left': [434, 340],\n",
              "  'bottom_right': [434, 371],\n",
              "  'top_left': [313, 340],\n",
              "  'top_right': [313, 371]},\n",
              " 'box77': {'bottom_left': [434, 370],\n",
              "  'bottom_right': [434, 401],\n",
              "  'top_left': [313, 370],\n",
              "  'top_right': [313, 401]},\n",
              " 'box78': {'bottom_left': [439, 401],\n",
              "  'bottom_right': [439, 432],\n",
              "  'top_left': [318, 401],\n",
              "  'top_right': [318, 432]},\n",
              " 'box79': {'bottom_left': [430, 491],\n",
              "  'bottom_right': [430, 522],\n",
              "  'top_left': [309, 491],\n",
              "  'top_right': [309, 522]},\n",
              " 'box8': {'bottom_left': [461, 329],\n",
              "  'bottom_right': [461, 356],\n",
              "  'top_left': [332, 329],\n",
              "  'top_right': [332, 356]},\n",
              " 'box80': {'bottom_left': [436, 526],\n",
              "  'bottom_right': [436, 557],\n",
              "  'top_left': [315, 526],\n",
              "  'top_right': [315, 557]},\n",
              " 'box81': {'bottom_left': [433, 556],\n",
              "  'bottom_right': [433, 587],\n",
              "  'top_left': [312, 556],\n",
              "  'top_right': [312, 587]},\n",
              " 'box82': {'bottom_left': [433, 592],\n",
              "  'bottom_right': [433, 623],\n",
              "  'top_left': [312, 592],\n",
              "  'top_right': [312, 623]},\n",
              " 'box83': {'bottom_left': [414, 641],\n",
              "  'bottom_right': [414, 672],\n",
              "  'top_left': [293, 641],\n",
              "  'top_right': [293, 672]},\n",
              " 'box84': {'bottom_left': [410, 665],\n",
              "  'bottom_right': [410, 696],\n",
              "  'top_left': [289, 665],\n",
              "  'top_right': [289, 696]},\n",
              " 'box85': {'bottom_left': [408, 689],\n",
              "  'bottom_right': [408, 720],\n",
              "  'top_left': [287, 689],\n",
              "  'top_right': [287, 720]},\n",
              " 'box86': {'bottom_left': [404, 713],\n",
              "  'bottom_right': [404, 744],\n",
              "  'top_left': [283, 713],\n",
              "  'top_right': [283, 744]},\n",
              " 'box9': {'bottom_left': [426, 351],\n",
              "  'bottom_right': [426, 378],\n",
              "  'top_left': [297, 351],\n",
              "  'top_right': [297, 378]}}"
            ]
          },
          "metadata": {
            "tags": []
          },
          "execution_count": 430
        }
      ]
    },
    {
      "cell_type": "code",
      "metadata": {
        "colab": {
          "base_uri": "https://localhost:8080/"
        },
        "id": "Nd9E_up-SsYG",
        "outputId": "8a09b6ed-c674-488f-a923-ab2a3aa58b17"
      },
      "source": [
        "results[13]"
      ],
      "execution_count": 415,
      "outputs": [
        {
          "output_type": "execute_result",
          "data": {
            "text/plain": [
              "((406, 216, 1202, 243),\n",
              " '(Operations with squares of numbers) = |\\n\\x0c',\n",
              " 'Page_cont_5_14')"
            ]
          },
          "metadata": {
            "tags": []
          },
          "execution_count": 415
        }
      ]
    },
    {
      "cell_type": "code",
      "metadata": {
        "id": "mYIefaZcUxPq"
      },
      "source": [
        "pageWise_dict = {} # This Dictionary stores coordinates page wise"
      ],
      "execution_count": 66,
      "outputs": []
    },
    {
      "cell_type": "code",
      "metadata": {
        "id": "b3CvplUJU4cL"
      },
      "source": [
        "pageWise_dict[\"page5_continue\"] = temp_dict"
      ],
      "execution_count": 432,
      "outputs": []
    },
    {
      "cell_type": "code",
      "metadata": {
        "colab": {
          "base_uri": "https://localhost:8080/"
        },
        "id": "c2seApbzZJ_h",
        "outputId": "bdb3dbfa-ba54-4d23-cc98-94ba2eeb82e5"
      },
      "source": [
        "pageWise_dict"
      ],
      "execution_count": 433,
      "outputs": [
        {
          "output_type": "execute_result",
          "data": {
            "text/plain": [
              "{'page1': {'box1': {'bottom_left': [395, 308],\n",
              "   'bottom_right': [395, 346],\n",
              "   'top_left': [322, 308],\n",
              "   'top_right': [322, 346]},\n",
              "  'box10': {'bottom_left': [429, 382],\n",
              "   'bottom_right': [429, 409],\n",
              "   'top_left': [300, 382],\n",
              "   'top_right': [300, 409]},\n",
              "  'box11': {'bottom_left': [434, 410],\n",
              "   'bottom_right': [434, 437],\n",
              "   'top_left': [305, 410],\n",
              "   'top_right': [305, 437]},\n",
              "  'box12': {'bottom_left': [407, 458],\n",
              "   'bottom_right': [407, 485],\n",
              "   'top_left': [278, 458],\n",
              "   'top_right': [278, 485]},\n",
              "  'box13': {'bottom_left': [650, 235],\n",
              "   'bottom_right': [650, 273],\n",
              "   'top_left': [532, 235],\n",
              "   'top_right': [532, 273]},\n",
              "  'box14': {'bottom_left': [376, 341],\n",
              "   'bottom_right': [376, 379],\n",
              "   'top_left': [258, 341],\n",
              "   'top_right': [258, 379]},\n",
              "  'box15': {'bottom_left': [431, 400],\n",
              "   'bottom_right': [431, 438],\n",
              "   'top_left': [313, 400],\n",
              "   'top_right': [313, 438]},\n",
              "  'box16': {'bottom_left': [428, 428],\n",
              "   'bottom_right': [428, 466],\n",
              "   'top_left': [310, 428],\n",
              "   'top_right': [310, 466]},\n",
              "  'box17': {'bottom_left': [482, 469],\n",
              "   'bottom_right': [482, 507],\n",
              "   'top_left': [364, 469],\n",
              "   'top_right': [364, 507]},\n",
              "  'box18': {'bottom_left': [429, 501],\n",
              "   'bottom_right': [429, 539],\n",
              "   'top_left': [311, 501],\n",
              "   'top_right': [311, 539]},\n",
              "  'box19': {'bottom_left': [464, 612],\n",
              "   'bottom_right': [464, 650],\n",
              "   'top_left': [346, 612],\n",
              "   'top_right': [346, 650]},\n",
              "  'box2': {'bottom_left': [384, 332],\n",
              "   'bottom_right': [384, 370],\n",
              "   'top_left': [311, 332],\n",
              "   'top_right': [311, 370]},\n",
              "  'box20': {'bottom_left': [429, 644],\n",
              "   'bottom_right': [429, 682],\n",
              "   'top_left': [311, 644],\n",
              "   'top_right': [311, 682]},\n",
              "  'box21': {'bottom_left': [437, 673],\n",
              "   'bottom_right': [437, 711],\n",
              "   'top_left': [319, 673],\n",
              "   'top_right': [319, 711]},\n",
              "  'box22': {'bottom_left': [428, 707],\n",
              "   'bottom_right': [428, 745],\n",
              "   'top_left': [310, 707],\n",
              "   'top_right': [310, 745]},\n",
              "  'box23': {'bottom_left': [669, 343],\n",
              "   'bottom_right': [669, 387],\n",
              "   'top_left': [520, 343],\n",
              "   'top_right': [520, 387]},\n",
              "  'box24': {'bottom_left': [405, 393],\n",
              "   'bottom_right': [405, 437],\n",
              "   'top_left': [256, 393],\n",
              "   'top_right': [256, 437]},\n",
              "  'box25': {'bottom_left': [459, 441],\n",
              "   'bottom_right': [459, 485],\n",
              "   'top_left': [310, 441],\n",
              "   'top_right': [310, 485]},\n",
              "  'box26': {'bottom_left': [459, 472],\n",
              "   'bottom_right': [459, 516],\n",
              "   'top_left': [310, 472],\n",
              "   'top_right': [310, 516]},\n",
              "  'box27': {'bottom_left': [460, 520],\n",
              "   'bottom_right': [460, 564],\n",
              "   'top_left': [311, 520],\n",
              "   'top_right': [311, 564]},\n",
              "  'box28': {'bottom_left': [557, 553],\n",
              "   'bottom_right': [557, 597],\n",
              "   'top_left': [408, 553],\n",
              "   'top_right': [408, 597]},\n",
              "  'box29': {'bottom_left': [467, 651],\n",
              "   'bottom_right': [467, 695],\n",
              "   'top_left': [318, 651],\n",
              "   'top_right': [318, 695]},\n",
              "  'box3': {'bottom_left': [328, 388],\n",
              "   'bottom_right': [328, 426],\n",
              "   'top_left': [255, 388],\n",
              "   'top_right': [255, 426]},\n",
              "  'box30': {'bottom_left': [464, 683],\n",
              "   'bottom_right': [464, 727],\n",
              "   'top_left': [315, 683],\n",
              "   'top_right': [315, 727]},\n",
              "  'box31': {'bottom_left': [462, 715],\n",
              "   'bottom_right': [462, 759],\n",
              "   'top_left': [313, 715],\n",
              "   'top_right': [313, 759]},\n",
              "  'box32': {'bottom_left': [610, 750],\n",
              "   'bottom_right': [610, 794],\n",
              "   'top_left': [461, 750],\n",
              "   'top_right': [461, 794]},\n",
              "  'box33': {'bottom_left': [506, 238],\n",
              "   'bottom_right': [506, 259],\n",
              "   'top_left': [419, 238],\n",
              "   'top_right': [419, 259]},\n",
              "  'box34': {'bottom_left': [343, 288],\n",
              "   'bottom_right': [343, 309],\n",
              "   'top_left': [256, 288],\n",
              "   'top_right': [256, 309]},\n",
              "  'box35': {'bottom_left': [403, 340],\n",
              "   'bottom_right': [403, 361],\n",
              "   'top_left': [316, 340],\n",
              "   'top_right': [316, 361]},\n",
              "  'box36': {'bottom_left': [401, 373],\n",
              "   'bottom_right': [401, 394],\n",
              "   'top_left': [314, 373],\n",
              "   'top_right': [314, 394]},\n",
              "  'box37': {'bottom_left': [371, 428],\n",
              "   'bottom_right': [371, 449],\n",
              "   'top_left': [284, 428],\n",
              "   'top_right': [284, 449]},\n",
              "  'box38': {'bottom_left': [374, 451],\n",
              "   'bottom_right': [374, 472],\n",
              "   'top_left': [287, 451],\n",
              "   'top_right': [287, 472]},\n",
              "  'box39': {'bottom_left': [372, 296],\n",
              "   'bottom_right': [372, 333],\n",
              "   'top_left': [311, 296],\n",
              "   'top_right': [311, 333]},\n",
              "  'box4': {'bottom_left': [383, 442],\n",
              "   'bottom_right': [383, 480],\n",
              "   'top_left': [310, 442],\n",
              "   'top_right': [310, 480]},\n",
              "  'box40': {'bottom_left': [378, 325],\n",
              "   'bottom_right': [378, 362],\n",
              "   'top_left': [317, 325],\n",
              "   'top_right': [317, 362]},\n",
              "  'box41': {'bottom_left': [370, 426],\n",
              "   'bottom_right': [370, 463],\n",
              "   'top_left': [309, 426],\n",
              "   'top_right': [309, 463]},\n",
              "  'box42': {'bottom_left': [372, 451],\n",
              "   'bottom_right': [372, 488],\n",
              "   'top_left': [311, 451],\n",
              "   'top_right': [311, 488]},\n",
              "  'box43': {'bottom_left': [378, 486],\n",
              "   'bottom_right': [378, 523],\n",
              "   'top_left': [317, 486],\n",
              "   'top_right': [317, 523]},\n",
              "  'box44': {'bottom_left': [382, 518],\n",
              "   'bottom_right': [382, 555],\n",
              "   'top_left': [321, 518],\n",
              "   'top_right': [321, 555]},\n",
              "  'box45': {'bottom_left': [433, 632],\n",
              "   'bottom_right': [433, 669],\n",
              "   'top_left': [372, 632],\n",
              "   'top_right': [372, 669]},\n",
              "  'box46': {'bottom_left': [372, 663],\n",
              "   'bottom_right': [372, 700],\n",
              "   'top_left': [311, 663],\n",
              "   'top_right': [311, 700]},\n",
              "  'box47': {'bottom_left': [373, 697],\n",
              "   'bottom_right': [373, 734],\n",
              "   'top_left': [312, 697],\n",
              "   'top_right': [312, 734]},\n",
              "  'box48': {'bottom_left': [369, 729],\n",
              "   'bottom_right': [369, 766],\n",
              "   'top_left': [308, 729],\n",
              "   'top_right': [308, 766]},\n",
              "  'box49': {'bottom_left': [275, 180],\n",
              "   'bottom_right': [275, 211],\n",
              "   'top_left': [256, 180],\n",
              "   'top_right': [256, 211]},\n",
              "  'box5': {'bottom_left': [386, 476],\n",
              "   'bottom_right': [386, 514],\n",
              "   'top_left': [313, 476],\n",
              "   'top_right': [313, 514]},\n",
              "  'box50': {'bottom_left': [332, 225],\n",
              "   'bottom_right': [332, 256],\n",
              "   'top_left': [313, 225],\n",
              "   'top_right': [313, 256]},\n",
              "  'box51': {'bottom_left': [332, 259],\n",
              "   'bottom_right': [332, 290],\n",
              "   'top_left': [313, 259],\n",
              "   'top_right': [313, 290]},\n",
              "  'box52': {'bottom_left': [329, 291],\n",
              "   'bottom_right': [329, 322],\n",
              "   'top_left': [310, 291],\n",
              "   'top_right': [310, 322]},\n",
              "  'box53': {'bottom_left': [335, 318],\n",
              "   'bottom_right': [335, 349],\n",
              "   'top_left': [316, 318],\n",
              "   'top_right': [316, 349]},\n",
              "  'box54': {'bottom_left': [311, 484],\n",
              "   'bottom_right': [311, 515],\n",
              "   'top_left': [292, 484],\n",
              "   'top_right': [292, 515]},\n",
              "  'box55': {'bottom_left': [289, 506],\n",
              "   'bottom_right': [289, 537],\n",
              "   'top_left': [270, 506],\n",
              "   'top_right': [270, 537]},\n",
              "  'box56': {'bottom_left': [309, 531],\n",
              "   'bottom_right': [309, 562],\n",
              "   'top_left': [290, 531],\n",
              "   'top_right': [290, 562]},\n",
              "  'box57': {'bottom_left': [318, 556],\n",
              "   'bottom_right': [318, 587],\n",
              "   'top_left': [299, 556],\n",
              "   'top_right': [299, 587]},\n",
              "  'box58': {'bottom_left': [328, 586],\n",
              "   'bottom_right': [328, 617],\n",
              "   'top_left': [309, 586],\n",
              "   'top_right': [309, 617]},\n",
              "  'box59': {'bottom_left': [323, 613],\n",
              "   'bottom_right': [323, 644],\n",
              "   'top_left': [304, 613],\n",
              "   'top_right': [304, 644]},\n",
              "  'box6': {'bottom_left': [384, 583],\n",
              "   'bottom_right': [384, 621],\n",
              "   'top_left': [311, 583],\n",
              "   'top_right': [311, 621]},\n",
              "  'box60': {'bottom_left': [324, 643],\n",
              "   'bottom_right': [324, 674],\n",
              "   'top_left': [305, 643],\n",
              "   'top_right': [305, 674]},\n",
              "  'box61': {'bottom_left': [326, 665],\n",
              "   'bottom_right': [326, 696],\n",
              "   'top_left': [307, 665],\n",
              "   'top_right': [307, 696]},\n",
              "  'box62': {'bottom_left': [615, 179],\n",
              "   'bottom_right': [615, 208],\n",
              "   'top_left': [526, 179],\n",
              "   'top_right': [526, 208]},\n",
              "  'box63': {'bottom_left': [489, 213],\n",
              "   'bottom_right': [489, 242],\n",
              "   'top_left': [400, 213],\n",
              "   'top_right': [400, 242]},\n",
              "  'box64': {'bottom_left': [358, 263],\n",
              "   'bottom_right': [358, 292],\n",
              "   'top_left': [269, 263],\n",
              "   'top_right': [269, 292]},\n",
              "  'box65': {'bottom_left': [402, 305],\n",
              "   'bottom_right': [402, 334],\n",
              "   'top_left': [313, 305],\n",
              "   'top_right': [313, 334]},\n",
              "  'box66': {'bottom_left': [491, 401],\n",
              "   'bottom_right': [491, 430],\n",
              "   'top_left': [402, 401],\n",
              "   'top_right': [402, 430]},\n",
              "  'box67': {'bottom_left': [436, 431],\n",
              "   'bottom_right': [436, 460],\n",
              "   'top_left': [347, 431],\n",
              "   'top_right': [347, 460]},\n",
              "  'box68': {'bottom_left': [341, 478],\n",
              "   'bottom_right': [341, 507],\n",
              "   'top_left': [252, 478],\n",
              "   'top_right': [252, 507]},\n",
              "  'box69': {'bottom_left': [485, 517],\n",
              "   'bottom_right': [485, 546],\n",
              "   'top_left': [396, 517],\n",
              "   'top_right': [396, 546]},\n",
              "  'box7': {'bottom_left': [379, 616],\n",
              "   'bottom_right': [379, 654],\n",
              "   'top_left': [306, 616],\n",
              "   'top_right': [306, 654]},\n",
              "  'box70': {'bottom_left': [414, 602],\n",
              "   'bottom_right': [414, 631],\n",
              "   'top_left': [325, 602],\n",
              "   'top_right': [325, 631]},\n",
              "  'box71': {'bottom_left': [402, 633],\n",
              "   'bottom_right': [402, 662],\n",
              "   'top_left': [313, 633],\n",
              "   'top_right': [313, 662]},\n",
              "  'box72': {'bottom_left': [496, 732],\n",
              "   'bottom_right': [496, 761],\n",
              "   'top_left': [407, 732],\n",
              "   'top_right': [407, 761]},\n",
              "  'box73': {'bottom_left': [527, 216],\n",
              "   'bottom_right': [527, 247],\n",
              "   'top_left': [406, 216],\n",
              "   'top_right': [406, 247]},\n",
              "  'box74': {'bottom_left': [379, 266],\n",
              "   'bottom_right': [379, 297],\n",
              "   'top_left': [258, 266],\n",
              "   'top_right': [258, 297]},\n",
              "  'box75': {'bottom_left': [443, 305],\n",
              "   'bottom_right': [443, 336],\n",
              "   'top_left': [322, 305],\n",
              "   'top_right': [322, 336]},\n",
              "  'box76': {'bottom_left': [434, 340],\n",
              "   'bottom_right': [434, 371],\n",
              "   'top_left': [313, 340],\n",
              "   'top_right': [313, 371]},\n",
              "  'box77': {'bottom_left': [434, 370],\n",
              "   'bottom_right': [434, 401],\n",
              "   'top_left': [313, 370],\n",
              "   'top_right': [313, 401]},\n",
              "  'box78': {'bottom_left': [439, 401],\n",
              "   'bottom_right': [439, 432],\n",
              "   'top_left': [318, 401],\n",
              "   'top_right': [318, 432]},\n",
              "  'box79': {'bottom_left': [430, 491],\n",
              "   'bottom_right': [430, 522],\n",
              "   'top_left': [309, 491],\n",
              "   'top_right': [309, 522]},\n",
              "  'box8': {'bottom_left': [461, 329],\n",
              "   'bottom_right': [461, 356],\n",
              "   'top_left': [332, 329],\n",
              "   'top_right': [332, 356]},\n",
              "  'box80': {'bottom_left': [436, 526],\n",
              "   'bottom_right': [436, 557],\n",
              "   'top_left': [315, 526],\n",
              "   'top_right': [315, 557]},\n",
              "  'box81': {'bottom_left': [433, 556],\n",
              "   'bottom_right': [433, 587],\n",
              "   'top_left': [312, 556],\n",
              "   'top_right': [312, 587]},\n",
              "  'box82': {'bottom_left': [433, 592],\n",
              "   'bottom_right': [433, 623],\n",
              "   'top_left': [312, 592],\n",
              "   'top_right': [312, 623]},\n",
              "  'box83': {'bottom_left': [414, 641],\n",
              "   'bottom_right': [414, 672],\n",
              "   'top_left': [293, 641],\n",
              "   'top_right': [293, 672]},\n",
              "  'box84': {'bottom_left': [410, 665],\n",
              "   'bottom_right': [410, 696],\n",
              "   'top_left': [289, 665],\n",
              "   'top_right': [289, 696]},\n",
              "  'box85': {'bottom_left': [408, 689],\n",
              "   'bottom_right': [408, 720],\n",
              "   'top_left': [287, 689],\n",
              "   'top_right': [287, 720]},\n",
              "  'box86': {'bottom_left': [404, 713],\n",
              "   'bottom_right': [404, 744],\n",
              "   'top_left': [283, 713],\n",
              "   'top_right': [283, 744]},\n",
              "  'box9': {'bottom_left': [426, 351],\n",
              "   'bottom_right': [426, 378],\n",
              "   'top_left': [297, 351],\n",
              "   'top_right': [297, 378]}},\n",
              " 'page2': {'box13': {'bottom_left': [650, 235],\n",
              "   'bottom_right': [650, 273],\n",
              "   'top_left': [532, 235],\n",
              "   'top_right': [532, 273]},\n",
              "  'box14': {'bottom_left': [376, 341],\n",
              "   'bottom_right': [376, 379],\n",
              "   'top_left': [258, 341],\n",
              "   'top_right': [258, 379]},\n",
              "  'box15': {'bottom_left': [431, 400],\n",
              "   'bottom_right': [431, 438],\n",
              "   'top_left': [313, 400],\n",
              "   'top_right': [313, 438]},\n",
              "  'box16': {'bottom_left': [428, 428],\n",
              "   'bottom_right': [428, 466],\n",
              "   'top_left': [310, 428],\n",
              "   'top_right': [310, 466]},\n",
              "  'box17': {'bottom_left': [482, 469],\n",
              "   'bottom_right': [482, 507],\n",
              "   'top_left': [364, 469],\n",
              "   'top_right': [364, 507]},\n",
              "  'box18': {'bottom_left': [429, 501],\n",
              "   'bottom_right': [429, 539],\n",
              "   'top_left': [311, 501],\n",
              "   'top_right': [311, 539]},\n",
              "  'box19': {'bottom_left': [464, 612],\n",
              "   'bottom_right': [464, 650],\n",
              "   'top_left': [346, 612],\n",
              "   'top_right': [346, 650]},\n",
              "  'box20': {'bottom_left': [429, 644],\n",
              "   'bottom_right': [429, 682],\n",
              "   'top_left': [311, 644],\n",
              "   'top_right': [311, 682]},\n",
              "  'box21': {'bottom_left': [437, 673],\n",
              "   'bottom_right': [437, 711],\n",
              "   'top_left': [319, 673],\n",
              "   'top_right': [319, 711]},\n",
              "  'box22': {'bottom_left': [428, 707],\n",
              "   'bottom_right': [428, 745],\n",
              "   'top_left': [310, 707],\n",
              "   'top_right': [310, 745]}},\n",
              " 'page3': {'box23': {'bottom_left': [669, 343],\n",
              "   'bottom_right': [669, 387],\n",
              "   'top_left': [520, 343],\n",
              "   'top_right': [520, 387]},\n",
              "  'box24': {'bottom_left': [405, 393],\n",
              "   'bottom_right': [405, 437],\n",
              "   'top_left': [256, 393],\n",
              "   'top_right': [256, 437]},\n",
              "  'box25': {'bottom_left': [459, 441],\n",
              "   'bottom_right': [459, 485],\n",
              "   'top_left': [310, 441],\n",
              "   'top_right': [310, 485]},\n",
              "  'box26': {'bottom_left': [459, 472],\n",
              "   'bottom_right': [459, 516],\n",
              "   'top_left': [310, 472],\n",
              "   'top_right': [310, 516]},\n",
              "  'box27': {'bottom_left': [460, 520],\n",
              "   'bottom_right': [460, 564],\n",
              "   'top_left': [311, 520],\n",
              "   'top_right': [311, 564]},\n",
              "  'box28': {'bottom_left': [557, 553],\n",
              "   'bottom_right': [557, 597],\n",
              "   'top_left': [408, 553],\n",
              "   'top_right': [408, 597]},\n",
              "  'box29': {'bottom_left': [467, 651],\n",
              "   'bottom_right': [467, 695],\n",
              "   'top_left': [318, 651],\n",
              "   'top_right': [318, 695]},\n",
              "  'box30': {'bottom_left': [464, 683],\n",
              "   'bottom_right': [464, 727],\n",
              "   'top_left': [315, 683],\n",
              "   'top_right': [315, 727]},\n",
              "  'box31': {'bottom_left': [462, 715],\n",
              "   'bottom_right': [462, 759],\n",
              "   'top_left': [313, 715],\n",
              "   'top_right': [313, 759]},\n",
              "  'box32': {'bottom_left': [610, 750],\n",
              "   'bottom_right': [610, 794],\n",
              "   'top_left': [461, 750],\n",
              "   'top_right': [461, 794]}},\n",
              " 'page3_continue': {'box33': {'bottom_left': [506, 238],\n",
              "   'bottom_right': [506, 259],\n",
              "   'top_left': [419, 238],\n",
              "   'top_right': [419, 259]},\n",
              "  'box34': {'bottom_left': [343, 288],\n",
              "   'bottom_right': [343, 309],\n",
              "   'top_left': [256, 288],\n",
              "   'top_right': [256, 309]},\n",
              "  'box35': {'bottom_left': [403, 340],\n",
              "   'bottom_right': [403, 361],\n",
              "   'top_left': [316, 340],\n",
              "   'top_right': [316, 361]},\n",
              "  'box36': {'bottom_left': [401, 373],\n",
              "   'bottom_right': [401, 394],\n",
              "   'top_left': [314, 373],\n",
              "   'top_right': [314, 394]},\n",
              "  'box37': {'bottom_left': [371, 428],\n",
              "   'bottom_right': [371, 449],\n",
              "   'top_left': [284, 428],\n",
              "   'top_right': [284, 449]},\n",
              "  'box38': {'bottom_left': [374, 451],\n",
              "   'bottom_right': [374, 472],\n",
              "   'top_left': [287, 451],\n",
              "   'top_right': [287, 472]}},\n",
              " 'page4': {'box39': {'bottom_left': [372, 296],\n",
              "   'bottom_right': [372, 333],\n",
              "   'top_left': [311, 296],\n",
              "   'top_right': [311, 333]},\n",
              "  'box40': {'bottom_left': [378, 325],\n",
              "   'bottom_right': [378, 362],\n",
              "   'top_left': [317, 325],\n",
              "   'top_right': [317, 362]},\n",
              "  'box41': {'bottom_left': [370, 426],\n",
              "   'bottom_right': [370, 463],\n",
              "   'top_left': [309, 426],\n",
              "   'top_right': [309, 463]},\n",
              "  'box42': {'bottom_left': [372, 451],\n",
              "   'bottom_right': [372, 488],\n",
              "   'top_left': [311, 451],\n",
              "   'top_right': [311, 488]},\n",
              "  'box43': {'bottom_left': [378, 486],\n",
              "   'bottom_right': [378, 523],\n",
              "   'top_left': [317, 486],\n",
              "   'top_right': [317, 523]},\n",
              "  'box44': {'bottom_left': [382, 518],\n",
              "   'bottom_right': [382, 555],\n",
              "   'top_left': [321, 518],\n",
              "   'top_right': [321, 555]},\n",
              "  'box45': {'bottom_left': [433, 632],\n",
              "   'bottom_right': [433, 669],\n",
              "   'top_left': [372, 632],\n",
              "   'top_right': [372, 669]},\n",
              "  'box46': {'bottom_left': [372, 663],\n",
              "   'bottom_right': [372, 700],\n",
              "   'top_left': [311, 663],\n",
              "   'top_right': [311, 700]},\n",
              "  'box47': {'bottom_left': [373, 697],\n",
              "   'bottom_right': [373, 734],\n",
              "   'top_left': [312, 697],\n",
              "   'top_right': [312, 734]},\n",
              "  'box48': {'bottom_left': [369, 729],\n",
              "   'bottom_right': [369, 766],\n",
              "   'top_left': [308, 729],\n",
              "   'top_right': [308, 766]}},\n",
              " 'page4_continue': {'box49': {'bottom_left': [275, 180],\n",
              "   'bottom_right': [275, 211],\n",
              "   'top_left': [256, 180],\n",
              "   'top_right': [256, 211]},\n",
              "  'box50': {'bottom_left': [332, 225],\n",
              "   'bottom_right': [332, 256],\n",
              "   'top_left': [313, 225],\n",
              "   'top_right': [313, 256]},\n",
              "  'box51': {'bottom_left': [332, 259],\n",
              "   'bottom_right': [332, 290],\n",
              "   'top_left': [313, 259],\n",
              "   'top_right': [313, 290]},\n",
              "  'box52': {'bottom_left': [329, 291],\n",
              "   'bottom_right': [329, 322],\n",
              "   'top_left': [310, 291],\n",
              "   'top_right': [310, 322]},\n",
              "  'box53': {'bottom_left': [335, 318],\n",
              "   'bottom_right': [335, 349],\n",
              "   'top_left': [316, 318],\n",
              "   'top_right': [316, 349]},\n",
              "  'box54': {'bottom_left': [311, 484],\n",
              "   'bottom_right': [311, 515],\n",
              "   'top_left': [292, 484],\n",
              "   'top_right': [292, 515]},\n",
              "  'box55': {'bottom_left': [289, 506],\n",
              "   'bottom_right': [289, 537],\n",
              "   'top_left': [270, 506],\n",
              "   'top_right': [270, 537]},\n",
              "  'box56': {'bottom_left': [309, 531],\n",
              "   'bottom_right': [309, 562],\n",
              "   'top_left': [290, 531],\n",
              "   'top_right': [290, 562]},\n",
              "  'box57': {'bottom_left': [318, 556],\n",
              "   'bottom_right': [318, 587],\n",
              "   'top_left': [299, 556],\n",
              "   'top_right': [299, 587]},\n",
              "  'box58': {'bottom_left': [328, 586],\n",
              "   'bottom_right': [328, 617],\n",
              "   'top_left': [309, 586],\n",
              "   'top_right': [309, 617]},\n",
              "  'box59': {'bottom_left': [323, 613],\n",
              "   'bottom_right': [323, 644],\n",
              "   'top_left': [304, 613],\n",
              "   'top_right': [304, 644]},\n",
              "  'box60': {'bottom_left': [324, 643],\n",
              "   'bottom_right': [324, 674],\n",
              "   'top_left': [305, 643],\n",
              "   'top_right': [305, 674]},\n",
              "  'box61': {'bottom_left': [326, 665],\n",
              "   'bottom_right': [326, 696],\n",
              "   'top_left': [307, 665],\n",
              "   'top_right': [307, 696]}},\n",
              " 'page5': {'box62': {'bottom_left': [615, 179],\n",
              "   'bottom_right': [615, 208],\n",
              "   'top_left': [526, 179],\n",
              "   'top_right': [526, 208]},\n",
              "  'box63': {'bottom_left': [489, 213],\n",
              "   'bottom_right': [489, 242],\n",
              "   'top_left': [400, 213],\n",
              "   'top_right': [400, 242]},\n",
              "  'box64': {'bottom_left': [358, 263],\n",
              "   'bottom_right': [358, 292],\n",
              "   'top_left': [269, 263],\n",
              "   'top_right': [269, 292]},\n",
              "  'box65': {'bottom_left': [402, 305],\n",
              "   'bottom_right': [402, 334],\n",
              "   'top_left': [313, 305],\n",
              "   'top_right': [313, 334]},\n",
              "  'box66': {'bottom_left': [491, 401],\n",
              "   'bottom_right': [491, 430],\n",
              "   'top_left': [402, 401],\n",
              "   'top_right': [402, 430]},\n",
              "  'box67': {'bottom_left': [436, 431],\n",
              "   'bottom_right': [436, 460],\n",
              "   'top_left': [347, 431],\n",
              "   'top_right': [347, 460]},\n",
              "  'box68': {'bottom_left': [341, 478],\n",
              "   'bottom_right': [341, 507],\n",
              "   'top_left': [252, 478],\n",
              "   'top_right': [252, 507]},\n",
              "  'box69': {'bottom_left': [485, 517],\n",
              "   'bottom_right': [485, 546],\n",
              "   'top_left': [396, 517],\n",
              "   'top_right': [396, 546]},\n",
              "  'box70': {'bottom_left': [414, 602],\n",
              "   'bottom_right': [414, 631],\n",
              "   'top_left': [325, 602],\n",
              "   'top_right': [325, 631]},\n",
              "  'box71': {'bottom_left': [402, 633],\n",
              "   'bottom_right': [402, 662],\n",
              "   'top_left': [313, 633],\n",
              "   'top_right': [313, 662]},\n",
              "  'box72': {'bottom_left': [496, 732],\n",
              "   'bottom_right': [496, 761],\n",
              "   'top_left': [407, 732],\n",
              "   'top_right': [407, 761]}},\n",
              " 'page5_continue': {'box73': {'bottom_left': [527, 216],\n",
              "   'bottom_right': [527, 247],\n",
              "   'top_left': [406, 216],\n",
              "   'top_right': [406, 247]},\n",
              "  'box74': {'bottom_left': [379, 266],\n",
              "   'bottom_right': [379, 297],\n",
              "   'top_left': [258, 266],\n",
              "   'top_right': [258, 297]},\n",
              "  'box75': {'bottom_left': [443, 305],\n",
              "   'bottom_right': [443, 336],\n",
              "   'top_left': [322, 305],\n",
              "   'top_right': [322, 336]},\n",
              "  'box76': {'bottom_left': [434, 340],\n",
              "   'bottom_right': [434, 371],\n",
              "   'top_left': [313, 340],\n",
              "   'top_right': [313, 371]},\n",
              "  'box77': {'bottom_left': [434, 370],\n",
              "   'bottom_right': [434, 401],\n",
              "   'top_left': [313, 370],\n",
              "   'top_right': [313, 401]},\n",
              "  'box78': {'bottom_left': [439, 401],\n",
              "   'bottom_right': [439, 432],\n",
              "   'top_left': [318, 401],\n",
              "   'top_right': [318, 432]},\n",
              "  'box79': {'bottom_left': [430, 491],\n",
              "   'bottom_right': [430, 522],\n",
              "   'top_left': [309, 491],\n",
              "   'top_right': [309, 522]},\n",
              "  'box80': {'bottom_left': [436, 526],\n",
              "   'bottom_right': [436, 557],\n",
              "   'top_left': [315, 526],\n",
              "   'top_right': [315, 557]},\n",
              "  'box81': {'bottom_left': [433, 556],\n",
              "   'bottom_right': [433, 587],\n",
              "   'top_left': [312, 556],\n",
              "   'top_right': [312, 587]},\n",
              "  'box82': {'bottom_left': [433, 592],\n",
              "   'bottom_right': [433, 623],\n",
              "   'top_left': [312, 592],\n",
              "   'top_right': [312, 623]},\n",
              "  'box83': {'bottom_left': [414, 641],\n",
              "   'bottom_right': [414, 672],\n",
              "   'top_left': [293, 641],\n",
              "   'top_right': [293, 672]},\n",
              "  'box84': {'bottom_left': [410, 665],\n",
              "   'bottom_right': [410, 696],\n",
              "   'top_left': [289, 665],\n",
              "   'top_right': [289, 696]},\n",
              "  'box85': {'bottom_left': [408, 689],\n",
              "   'bottom_right': [408, 720],\n",
              "   'top_left': [287, 689],\n",
              "   'top_right': [287, 720]},\n",
              "  'box86': {'bottom_left': [404, 713],\n",
              "   'bottom_right': [404, 744],\n",
              "   'top_left': [283, 713],\n",
              "   'top_right': [283, 744]}}}"
            ]
          },
          "metadata": {
            "tags": []
          },
          "execution_count": 433
        }
      ]
    },
    {
      "cell_type": "markdown",
      "metadata": {
        "id": "yqEX7-R92pw_"
      },
      "source": [
        "## Storing Data in JSON"
      ]
    },
    {
      "cell_type": "code",
      "metadata": {
        "id": "A8teSoUvtA9B"
      },
      "source": [
        "import json"
      ],
      "execution_count": 434,
      "outputs": []
    },
    {
      "cell_type": "code",
      "metadata": {
        "id": "HdazLxEFtBec"
      },
      "source": [
        "with open('boxes_coordinates.json','w') as fp:\n",
        "  json.dump(main_dict,fp,sort_keys=True,indent=4)"
      ],
      "execution_count": 452,
      "outputs": []
    },
    {
      "cell_type": "code",
      "metadata": {
        "id": "A2GZOd9ltBu6"
      },
      "source": [
        "with open('pageWise_boxes_coordinates.json','w') as fp:\n",
        "  json.dump(pageWise_dict,fp,sort_keys=True,indent=4)"
      ],
      "execution_count": 453,
      "outputs": []
    },
    {
      "cell_type": "code",
      "metadata": {
        "id": "VglFSx3itB_f"
      },
      "source": [
        "with open('boxes_coordinates.json') as fp:\n",
        "  data = json.load(fp)"
      ],
      "execution_count": 454,
      "outputs": []
    },
    {
      "cell_type": "code",
      "metadata": {
        "id": "WSQZQ9wcVGQe"
      },
      "source": [
        "#pip install pdf2image"
      ],
      "execution_count": null,
      "outputs": []
    },
    {
      "cell_type": "code",
      "metadata": {
        "id": "gn9ErFpMVa09"
      },
      "source": [
        "#!wget \"https://www.dropbox.com/s/xsh6jk28pb44bw9/Sanskrit_Text.pdf?dl=0\""
      ],
      "execution_count": null,
      "outputs": []
    },
    {
      "cell_type": "code",
      "metadata": {
        "id": "15Iahjx3l-o_"
      },
      "source": [
        "#!sudo apt-get install poppler-utils"
      ],
      "execution_count": null,
      "outputs": []
    },
    {
      "cell_type": "code",
      "metadata": {
        "id": "QBnq0tGgWbDk"
      },
      "source": [
        "#from pdf2image import convert_from_path\n",
        "#images = convert_from_path(\"Sanskrit_Text.pdf\", 1280)\n",
        "#for i, image in enumerate(images):\n",
        " #   fname = 'image'+str(i)+'.png'\n",
        "  #  image.save(fname, \"PNG\")"
      ],
      "execution_count": null,
      "outputs": []
    },
    {
      "cell_type": "code",
      "metadata": {
        "id": "BJ-NLsnfaKiW"
      },
      "source": [
        "#im = cv2.imread(\"image4.png\")\n",
        "#cv2_imshow(im)"
      ],
      "execution_count": null,
      "outputs": []
    },
    {
      "cell_type": "code",
      "metadata": {
        "id": "Z_mDWkyMhgAu"
      },
      "source": [
        ""
      ],
      "execution_count": null,
      "outputs": []
    }
  ]
}